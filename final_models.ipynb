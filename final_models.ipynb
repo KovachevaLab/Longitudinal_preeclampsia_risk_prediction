{
 "cells": [
  {
   "cell_type": "code",
   "execution_count": null,
   "metadata": {},
   "outputs": [],
   "source": [
    "from helper_functions import attempt_delete, objective\n",
    "from model_config import model_dict, weeks_list, acog_features\n",
    "import optuna\n",
    "import pandas as pd"
   ]
  },
  {
   "cell_type": "markdown",
   "metadata": {},
   "source": [
    "Train All Models"
   ]
  },
  {
   "cell_type": "code",
   "execution_count": null,
   "metadata": {},
   "outputs": [],
   "source": [
    "storage = 'sqlite:///optuna_dbs/testing.db'\n",
    "n_trials = 10\n",
    "for model in list(model_dict.keys()):\n",
    "    if model not in ['elastic', 'logistic']:\n",
    "        for weeks in weeks_list:\n",
    "            study_name = f'{model}_{weeks}'\n",
    "            attempt_delete(study_name, storage)\n",
    "            study = optuna.create_study(direction=\"maximize\", study_name=study_name, storage=storage, load_if_exists=True)\n",
    "            study.optimize(lambda trial: objective(trial, weeks, model), n_trials=n_trials)"
   ]
  }
 ],
 "metadata": {
  "kernelspec": {
   "display_name": "mlp",
   "language": "python",
   "name": "python3"
  },
  "language_info": {
   "codemirror_mode": {
    "name": "ipython",
    "version": 3
   },
   "file_extension": ".py",
   "mimetype": "text/x-python",
   "name": "python",
   "nbconvert_exporter": "python",
   "pygments_lexer": "ipython3",
   "version": "3.8.13"
  }
 },
 "nbformat": 4,
 "nbformat_minor": 2
}
